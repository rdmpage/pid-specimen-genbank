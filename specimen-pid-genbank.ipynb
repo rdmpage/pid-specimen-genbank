{
 "cells": [
  {
   "cell_type": "code",
   "execution_count": null,
   "metadata": {},
   "outputs": [],
   "source": [
    "from pygbif import occurrences as occ\n",
    "from pygbif import species\n",
    "\n",
    "splist = ['Stylodactylus serratus Milne-Edwards']\n",
    "keys = [ species.name_backbone(x)['usageKey'] for x in splist ]\n",
    "\n",
    "out = occ.search(taxonKey = keys, limit=5)\n",
    "\n",
    "local = out['results'][4]['locality']\n",
    "rights  = out['results'][4]['rightsHolder']\n",
    "url  =    out['results'][4]['occurrenceID']\n",
    "\n",
    "print(local+'|'+rights+'|'+url)\n"
   ]
  },
  {
   "cell_type": "code",
   "execution_count": null,
   "metadata": {},
   "outputs": [],
   "source": []
  },
  {
   "cell_type": "code",
   "execution_count": null,
   "metadata": {},
   "outputs": [],
   "source": []
  }
 ],
 "metadata": {
  "kernelspec": {
   "display_name": "Python 3",
   "language": "python",
   "name": "python3"
  },
  "language_info": {
   "codemirror_mode": {
    "name": "ipython",
    "version": 3
   },
   "file_extension": ".py",
   "mimetype": "text/x-python",
   "name": "python",
   "nbconvert_exporter": "python",
   "pygments_lexer": "ipython3",
   "version": "3.7.3"
  }
 },
 "nbformat": 4,
 "nbformat_minor": 4
}
