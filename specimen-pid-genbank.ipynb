{
 "cells": [
  {
   "cell_type": "code",
   "execution_count": 20,
   "metadata": {},
   "outputs": [
    {
     "name": "stdout",
     "output_type": "stream",
     "text": [
      "[\n",
      "    {\n",
      "        \"accession\": \"AF371257\",\n",
      "        \"country\": \"\",\n",
      "        \"scientific_name\": \"Cylindraspis vosmaeri\",\n",
      "        \"specimen_voucher\": \"RMNH 6001 Type specimen, Nationaal Natuurhistorisch Museum, Leiden (formerly Rijksmuseum van der Natuurlijke Historie)\",\n",
      "        \"tax_id\": \"180178\"\n",
      "    },\n",
      "    {\n",
      "        \"accession\": \"AM076944\",\n",
      "        \"country\": \"Atlantic Ocean:Caribbean Islands St Vincent\",\n",
      "        \"scientific_name\": \"Stylodactylus serratus\",\n",
      "        \"specimen_voucher\": \"RMNH D 38033\",\n",
      "        \"tax_id\": \"342640\"\n",
      "    }\n",
      "]\n"
     ]
    }
   ],
   "source": [
    "import requests\n",
    "import json\n",
    "\n",
    "# This uses the ENI (European Nucleotide Archive) API \n",
    "# and searches the specimen_voucher record\n",
    "\n",
    "# This demo shows how we can connect the specimen_voucher record \n",
    "# back to the museum portal. In this case we highlight a record that \n",
    "# cannot be matched. \n",
    "\n",
    "\n",
    "headers = {\n",
    "    'Content-Type': 'application/x-www-form-urlencoded',\n",
    "}\n",
    "#'fields': 'description,scientific_name,specimen_voucher,country,accession,tax_division,tax_id,topology',\n",
    "\n",
    "data = {\n",
    "  'result': 'sequence_release',\n",
    "  'query': 'specimen_voucher=\"RMNH*\"',\n",
    "  'fields': 'scientific_name,specimen_voucher,country,accession,tax_id',\n",
    "  'format': 'json',\n",
    "  'limit': '2'\n",
    "}\n",
    "\n",
    "\n",
    "def jprint(obj):\n",
    "    # create a formatted string of the Python JSON object\n",
    "    text = json.dumps(obj, sort_keys=True, indent=4)\n",
    "    print(text)\n",
    "\n",
    "\n",
    "response = requests.post('https://www.ebi.ac.uk/ena/portal/api/search', headers=headers, data=data)\n",
    "\n",
    "raw = response.json()\n",
    "\n",
    "jprint(raw)"
   ]
  },
  {
   "cell_type": "code",
   "execution_count": 18,
   "metadata": {},
   "outputs": [
    {
     "name": "stdout",
     "output_type": "stream",
     "text": [
      "SE of St. Vincent|Naturalis Biodiversity Center|https://data.biodiversitydata.nl/naturalis/specimen/RMNH.CRUS.D.38033\n"
     ]
    }
   ],
   "source": [
    "from pygbif import occurrences as occ\n",
    "from pygbif import species\n",
    "\n",
    "# Search using the name \n",
    "# Then get the taxon key. \n",
    "\n",
    "\n",
    "splist = ['Stylodactylus serratus Milne-Edwards']\n",
    "keys = [ species.name_backbone(x)['usageKey'] for x in splist ]\n",
    "\n",
    "# Using the taxon key do a occurrence search \n",
    "# Then look at the country, organisation data to verify \n",
    "\n",
    "out = occ.search(taxonKey = keys, limit=5)\n",
    "\n",
    "\n",
    "\n",
    "local = out['results'][4]['locality']\n",
    "rights  = out['results'][4]['rightsHolder']\n",
    "url  =    out['results'][4]['occurrenceID']\n",
    "\n",
    "print(local+'|'+rights+'|'+url)\n"
   ]
  },
  {
   "cell_type": "code",
   "execution_count": null,
   "metadata": {},
   "outputs": [],
   "source": []
  }
 ],
 "metadata": {
  "kernelspec": {
   "display_name": "Python 3",
   "language": "python",
   "name": "python3"
  },
  "language_info": {
   "codemirror_mode": {
    "name": "ipython",
    "version": 3
   },
   "file_extension": ".py",
   "mimetype": "text/x-python",
   "name": "python",
   "nbconvert_exporter": "python",
   "pygments_lexer": "ipython3",
   "version": "3.7.3"
  }
 },
 "nbformat": 4,
 "nbformat_minor": 4
}
